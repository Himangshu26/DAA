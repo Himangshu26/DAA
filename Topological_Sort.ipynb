{
  "nbformat": 4,
  "nbformat_minor": 0,
  "metadata": {
    "colab": {
      "provenance": [],
      "toc_visible": true
    },
    "kernelspec": {
      "name": "python3",
      "display_name": "Python 3"
    },
    "language_info": {
      "name": "python"
    }
  },
  "cells": [
    {
      "cell_type": "markdown",
      "source": [
        "# **Topological Sort**\n",
        "\n",
        "\n",
        "Topological sort is basically to create a linear ordering of the topological structure of a graph structure. The linear ordering is able to explain the in-degree by ascending order. For instance, you want to install keras. The dependencies of keras include scipy, numpy, tensorflow, and etc. And tensorflow requires numpy as well. So which one should we install first? With topological sort, we will be able to answer that question. DFS and Kahn's algorithm are common tools for topological sort.\n",
        "\n",
        "The topological sort order depends on the starting point. The topological sort order is unique if and only if a Hamiltonian path exists."
      ],
      "metadata": {
        "id": "6oFzygXiQt_A"
      }
    },
    {
      "cell_type": "code",
      "source": [
        "from collections import defaultdict, deque\n",
        "\n",
        "def topological_sort(graph):\n",
        "    in_degree = {node: 0 for node in graph}\n",
        "    for node in graph:\n",
        "        for neighbor in graph[node]:\n",
        "            in_degree[neighbor] += 1\n",
        "\n",
        "    queue = deque([node for node in in_degree if in_degree[node] == 0])\n",
        "    result = []\n",
        "\n",
        "    while queue:\n",
        "        node = queue.popleft()\n",
        "        result.append(node)\n",
        "\n",
        "        for neighbor in graph[node]:\n",
        "            in_degree[neighbor] -= 1\n",
        "            if in_degree[neighbor] == 0:\n",
        "                queue.append(neighbor)\n",
        "\n",
        "    return result\n",
        "graph = {\n",
        "    1: [2, 3],\n",
        "    2: [4, 5],\n",
        "    3: [6],\n",
        "    4: [],\n",
        "    5: [],\n",
        "    6: [],\n",
        "}\n",
        "sorted_order = topological_sort(graph)\n",
        "print(\"Topological Sorting Order:\", sorted_order)\n"
      ],
      "metadata": {
        "colab": {
          "base_uri": "https://localhost:8080/"
        },
        "id": "Gy2edcWjQvo_",
        "outputId": "28bc3ec2-479b-4380-e16b-56db74e2970f"
      },
      "execution_count": 1,
      "outputs": [
        {
          "output_type": "stream",
          "name": "stdout",
          "text": [
            "Topological Sorting Order: [1, 2, 3, 4, 5, 6]\n"
          ]
        }
      ]
    },
    {
      "cell_type": "code",
      "source": [
        "import graphviz\n",
        "\n",
        "graph = graphviz.Graph()\n",
        "\n",
        "graph.node('1')\n",
        "graph.node('2')\n",
        "graph.node('3')\n",
        "graph.node('4')\n",
        "graph.node('5')\n",
        "graph.node('6')\n",
        "\n",
        "graph.edge('1', '2')\n",
        "graph.edge('1', '3')\n",
        "graph.edge('2', '4')\n",
        "graph.edge('2', '5')\n",
        "graph.edge('3', '6')\n",
        "\n",
        "graph.render('topological_graph.png')"
      ],
      "metadata": {
        "colab": {
          "base_uri": "https://localhost:8080/",
          "height": 36
        },
        "id": "neWYCKGARQFf",
        "outputId": "0b5302a4-22af-4a6a-e78d-15da9353fd26"
      },
      "execution_count": 2,
      "outputs": [
        {
          "output_type": "execute_result",
          "data": {
            "text/plain": [
              "'topological_graph.png.pdf'"
            ],
            "application/vnd.google.colaboratory.intrinsic+json": {
              "type": "string"
            }
          },
          "metadata": {},
          "execution_count": 2
        }
      ]
    }
  ]
}